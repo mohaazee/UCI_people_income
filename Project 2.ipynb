{
 "cells": [
  {
   "cell_type": "code",
   "execution_count": 1,
   "id": "d104e344",
   "metadata": {},
   "outputs": [],
   "source": [
    "##Adult Data set###"
   ]
  },
  {
   "cell_type": "code",
   "execution_count": 2,
   "id": "6f3c080c",
   "metadata": {},
   "outputs": [],
   "source": [
    "#Downloaded and saved the data locally "
   ]
  },
  {
   "cell_type": "code",
   "execution_count": 3,
   "id": "e65dd255",
   "metadata": {},
   "outputs": [],
   "source": [
    "#importing necessary libraries to manipulate,process data and create visualizations\n",
    "import numpy as np\n",
    "import pandas as pd\n",
    "import matplotlib.pyplot as plt\n",
    "import seaborn as sns\n",
    "%matplotlib inline"
   ]
  },
  {
   "cell_type": "code",
   "execution_count": 4,
   "id": "3182b7ad",
   "metadata": {},
   "outputs": [],
   "source": [
    "#loaded the data in jupyter and added the column names to the data table\n",
    "df=pd.read_csv('adult.data')\n",
    "Frame=pd. DataFrame(df. values, columns = [\"No\",\"Age\", \"Workclass\", \"fnlwgt\", \"Education\",\"Years_of_Education\",\"Marital_Status\",\"Occupation\",\"Relationship\",\"Race\",\"Sex\",\"Capital_gain\",\"Capital_loss\",\"hours_per_week\",\"Native_country\",\"Earning\"])\n",
    "Frame. to_csv('df')"
   ]
  },
  {
   "cell_type": "code",
   "execution_count": 5,
   "id": "26c41d4f",
   "metadata": {},
   "outputs": [
    {
     "name": "stdout",
     "output_type": "stream",
     "text": [
      "<class 'pandas.core.frame.DataFrame'>\n",
      "RangeIndex: 32560 entries, 0 to 32559\n",
      "Data columns (total 16 columns):\n",
      " #   Column              Non-Null Count  Dtype \n",
      "---  ------              --------------  ----- \n",
      " 0   Unnamed: 0          32560 non-null  int64 \n",
      " 1   Age                 32560 non-null  int64 \n",
      " 2   Workclass           32560 non-null  object\n",
      " 3   fnlwgt              32560 non-null  int64 \n",
      " 4   Education           32560 non-null  object\n",
      " 5   Years_of_Education  32560 non-null  int64 \n",
      " 6   Marital_Status      32560 non-null  object\n",
      " 7   Occupation          32560 non-null  object\n",
      " 8   Relationship        32560 non-null  object\n",
      " 9   Race                32560 non-null  object\n",
      " 10  Sex                 32560 non-null  object\n",
      " 11  Capital_gain        32560 non-null  int64 \n",
      " 12  Capital_loss        32560 non-null  int64 \n",
      " 13  hours_per_week      32560 non-null  int64 \n",
      " 14  Native_country      32560 non-null  object\n",
      " 15  Earning             32560 non-null  object\n",
      "dtypes: int64(7), object(9)\n",
      "memory usage: 4.0+ MB\n",
      "None\n"
     ]
    }
   ],
   "source": [
    "#checking the data types of the data and also checking all data types are right\n",
    "print(df.info())"
   ]
  },
  {
   "cell_type": "code",
   "execution_count": 6,
   "id": "20dba3fa",
   "metadata": {},
   "outputs": [
    {
     "name": "stdout",
     "output_type": "stream",
     "text": [
      "   Unnamed: 0  Age          Workclass  fnlwgt   Education  Years_of_Education  \\\n",
      "0           0   50   Self-emp-not-inc   83311   Bachelors                  13   \n",
      "1           1   38            Private  215646     HS-grad                   9   \n",
      "2           2   53            Private  234721        11th                   7   \n",
      "3           3   28            Private  338409   Bachelors                  13   \n",
      "4           4   37            Private  284582     Masters                  14   \n",
      "\n",
      "        Marital_Status          Occupation    Relationship    Race      Sex  \\\n",
      "0   Married-civ-spouse     Exec-managerial         Husband   White     Male   \n",
      "1             Divorced   Handlers-cleaners   Not-in-family   White     Male   \n",
      "2   Married-civ-spouse   Handlers-cleaners         Husband   Black     Male   \n",
      "3   Married-civ-spouse      Prof-specialty            Wife   Black   Female   \n",
      "4   Married-civ-spouse     Exec-managerial            Wife   White   Female   \n",
      "\n",
      "   Capital_gain  Capital_loss  hours_per_week  Native_country Earning  \n",
      "0             0             0              13   United-States   <=50K  \n",
      "1             0             0              40   United-States   <=50K  \n",
      "2             0             0              40   United-States   <=50K  \n",
      "3             0             0              40            Cuba   <=50K  \n",
      "4             0             0              40   United-States   <=50K  \n"
     ]
    }
   ],
   "source": [
    "#printing first 5 values to understand data\n",
    "print(df.head())"
   ]
  },
  {
   "cell_type": "code",
   "execution_count": 7,
   "id": "82475916",
   "metadata": {},
   "outputs": [
    {
     "data": {
      "text/html": [
       "<div>\n",
       "<style scoped>\n",
       "    .dataframe tbody tr th:only-of-type {\n",
       "        vertical-align: middle;\n",
       "    }\n",
       "\n",
       "    .dataframe tbody tr th {\n",
       "        vertical-align: top;\n",
       "    }\n",
       "\n",
       "    .dataframe thead th {\n",
       "        text-align: right;\n",
       "    }\n",
       "</style>\n",
       "<table border=\"1\" class=\"dataframe\">\n",
       "  <thead>\n",
       "    <tr style=\"text-align: right;\">\n",
       "      <th></th>\n",
       "      <th>Unnamed: 0</th>\n",
       "      <th>Age</th>\n",
       "      <th>fnlwgt</th>\n",
       "      <th>Years_of_Education</th>\n",
       "      <th>Capital_gain</th>\n",
       "      <th>Capital_loss</th>\n",
       "      <th>hours_per_week</th>\n",
       "    </tr>\n",
       "  </thead>\n",
       "  <tbody>\n",
       "    <tr>\n",
       "      <th>count</th>\n",
       "      <td>32560.000000</td>\n",
       "      <td>32560.000000</td>\n",
       "      <td>3.256000e+04</td>\n",
       "      <td>32560.000000</td>\n",
       "      <td>32560.000000</td>\n",
       "      <td>32560.000000</td>\n",
       "      <td>32560.000000</td>\n",
       "    </tr>\n",
       "    <tr>\n",
       "      <th>mean</th>\n",
       "      <td>16279.500000</td>\n",
       "      <td>38.581634</td>\n",
       "      <td>1.897818e+05</td>\n",
       "      <td>10.080590</td>\n",
       "      <td>1077.615172</td>\n",
       "      <td>87.306511</td>\n",
       "      <td>40.437469</td>\n",
       "    </tr>\n",
       "    <tr>\n",
       "      <th>std</th>\n",
       "      <td>9399.406719</td>\n",
       "      <td>13.640642</td>\n",
       "      <td>1.055498e+05</td>\n",
       "      <td>2.572709</td>\n",
       "      <td>7385.402999</td>\n",
       "      <td>402.966116</td>\n",
       "      <td>12.347618</td>\n",
       "    </tr>\n",
       "    <tr>\n",
       "      <th>min</th>\n",
       "      <td>0.000000</td>\n",
       "      <td>17.000000</td>\n",
       "      <td>1.228500e+04</td>\n",
       "      <td>1.000000</td>\n",
       "      <td>0.000000</td>\n",
       "      <td>0.000000</td>\n",
       "      <td>1.000000</td>\n",
       "    </tr>\n",
       "    <tr>\n",
       "      <th>25%</th>\n",
       "      <td>8139.750000</td>\n",
       "      <td>28.000000</td>\n",
       "      <td>1.178315e+05</td>\n",
       "      <td>9.000000</td>\n",
       "      <td>0.000000</td>\n",
       "      <td>0.000000</td>\n",
       "      <td>40.000000</td>\n",
       "    </tr>\n",
       "    <tr>\n",
       "      <th>50%</th>\n",
       "      <td>16279.500000</td>\n",
       "      <td>37.000000</td>\n",
       "      <td>1.783630e+05</td>\n",
       "      <td>10.000000</td>\n",
       "      <td>0.000000</td>\n",
       "      <td>0.000000</td>\n",
       "      <td>40.000000</td>\n",
       "    </tr>\n",
       "    <tr>\n",
       "      <th>75%</th>\n",
       "      <td>24419.250000</td>\n",
       "      <td>48.000000</td>\n",
       "      <td>2.370545e+05</td>\n",
       "      <td>12.000000</td>\n",
       "      <td>0.000000</td>\n",
       "      <td>0.000000</td>\n",
       "      <td>45.000000</td>\n",
       "    </tr>\n",
       "    <tr>\n",
       "      <th>max</th>\n",
       "      <td>32559.000000</td>\n",
       "      <td>90.000000</td>\n",
       "      <td>1.484705e+06</td>\n",
       "      <td>16.000000</td>\n",
       "      <td>99999.000000</td>\n",
       "      <td>4356.000000</td>\n",
       "      <td>99.000000</td>\n",
       "    </tr>\n",
       "  </tbody>\n",
       "</table>\n",
       "</div>"
      ],
      "text/plain": [
       "         Unnamed: 0           Age        fnlwgt  Years_of_Education  \\\n",
       "count  32560.000000  32560.000000  3.256000e+04        32560.000000   \n",
       "mean   16279.500000     38.581634  1.897818e+05           10.080590   \n",
       "std     9399.406719     13.640642  1.055498e+05            2.572709   \n",
       "min        0.000000     17.000000  1.228500e+04            1.000000   \n",
       "25%     8139.750000     28.000000  1.178315e+05            9.000000   \n",
       "50%    16279.500000     37.000000  1.783630e+05           10.000000   \n",
       "75%    24419.250000     48.000000  2.370545e+05           12.000000   \n",
       "max    32559.000000     90.000000  1.484705e+06           16.000000   \n",
       "\n",
       "       Capital_gain  Capital_loss  hours_per_week  \n",
       "count  32560.000000  32560.000000    32560.000000  \n",
       "mean    1077.615172     87.306511       40.437469  \n",
       "std     7385.402999    402.966116       12.347618  \n",
       "min        0.000000      0.000000        1.000000  \n",
       "25%        0.000000      0.000000       40.000000  \n",
       "50%        0.000000      0.000000       40.000000  \n",
       "75%        0.000000      0.000000       45.000000  \n",
       "max    99999.000000   4356.000000       99.000000  "
      ]
     },
     "execution_count": 7,
     "metadata": {},
     "output_type": "execute_result"
    }
   ],
   "source": [
    "#printing the basic info statistic details to study them, compare mean median and percentiles and check for outliers\n",
    "df.describe()"
   ]
  },
  {
   "cell_type": "code",
   "execution_count": 8,
   "id": "dd66f89c",
   "metadata": {},
   "outputs": [
    {
     "data": {
      "text/plain": [
       "Unnamed: 0            0\n",
       "Age                   0\n",
       "Workclass             0\n",
       "fnlwgt                0\n",
       "Education             0\n",
       "Years_of_Education    0\n",
       "Marital_Status        0\n",
       "Occupation            0\n",
       "Relationship          0\n",
       "Race                  0\n",
       "Sex                   0\n",
       "Capital_gain          0\n",
       "Capital_loss          0\n",
       "hours_per_week        0\n",
       "Native_country        0\n",
       "Earning               0\n",
       "dtype: int64"
      ]
     },
     "execution_count": 8,
     "metadata": {},
     "output_type": "execute_result"
    }
   ],
   "source": [
    "#looking for null or empty values in the data set\n",
    "df.isnull().sum()"
   ]
  },
  {
   "cell_type": "code",
   "execution_count": 9,
   "id": "d04d4d4d",
   "metadata": {},
   "outputs": [
    {
     "data": {
      "text/plain": [
       "count    32394.000000\n",
       "mean        38.353461\n",
       "std         13.292934\n",
       "min         17.000000\n",
       "25%         28.000000\n",
       "50%         37.000000\n",
       "75%         47.000000\n",
       "max         77.000000\n",
       "Name: Age, dtype: float64"
      ]
     },
     "execution_count": 9,
     "metadata": {},
     "output_type": "execute_result"
    }
   ],
   "source": [
    "#when age statistic deatils been studied since mean and 75th percentile where quite near but max remained too far, seemed to have outlier, hence they are removed\n",
    "a_Q1 = df.Age.quantile(0.25)\n",
    "a_Q3 = df.Age.quantile(0.75)\n",
    "a_IQR = a_Q3 - a_Q1\n",
    "a_lower_limit = a_Q1 - 1.5*a_IQR\n",
    "a_upper_limit = a_Q3 + 1.5*a_IQR\n",
    "df = df[(df.Age>a_lower_limit)&(df.Age<a_upper_limit)]\n",
    "df.Age.describe()"
   ]
  },
  {
   "cell_type": "code",
   "execution_count": 10,
   "id": "5774cad9",
   "metadata": {},
   "outputs": [
    {
     "data": {
      "text/plain": [
       "count    23490.000000\n",
       "mean        41.568412\n",
       "std          4.014812\n",
       "min         33.000000\n",
       "25%         40.000000\n",
       "50%         40.000000\n",
       "75%         42.000000\n",
       "max         52.000000\n",
       "Name: hours_per_week, dtype: float64"
      ]
     },
     "execution_count": 10,
     "metadata": {},
     "output_type": "execute_result"
    }
   ],
   "source": [
    "#when hours_per_week statistic deatils been studied since mean and 75th percentile where quite near but max remained too far, seemed to have outlier, hence they are removed\n",
    "h_Q1 = df.hours_per_week.quantile(0.25)\n",
    "h_Q3 = df.hours_per_week.quantile(0.75)\n",
    "h_IQR = h_Q3 - h_Q1\n",
    "h_lower_limit = h_Q1 - 1.5*h_IQR\n",
    "h_upper_limit = h_Q3 + 1.5*h_IQR\n",
    "df = df[(df.hours_per_week>h_lower_limit)&(df.hours_per_week<h_upper_limit)]\n",
    "df.hours_per_week.describe()"
   ]
  },
  {
   "cell_type": "code",
   "execution_count": 11,
   "id": "4f1425bc",
   "metadata": {},
   "outputs": [
    {
     "data": {
      "text/plain": [
       "<AxesSubplot:xlabel='Earning', ylabel='count'>"
      ]
     },
     "execution_count": 11,
     "metadata": {},
     "output_type": "execute_result"
    },
    {
     "data": {
      "image/png": "[encoded data removed]",
      "text/plain": [
       "<Figure size 432x288 with 1 Axes>"
      ]
     },
     "metadata": {
      "needs_background": "light"
     },
     "output_type": "display_data"
    }
   ],
   "source": [
    "#comparing the ultimate result value \"Earning\" with other all columns to get an idea about the values:\n",
    "#used only count plots and hist plots, since the values are categorical and involves only one data, the count\n",
    "sns.countplot(x=\"Earning\",hue='Sex',data=df)"
   ]
  },
  {
   "cell_type": "code",
   "execution_count": 12,
   "id": "07fd2a25",
   "metadata": {},
   "outputs": [
    {
     "data": {
      "text/plain": [
       "<AxesSubplot:xlabel='Age', ylabel='Count'>"
      ]
     },
     "execution_count": 12,
     "metadata": {},
     "output_type": "execute_result"
    },
    {
     "data": {
      "image/png": "[encoded data removed]",
      "text/plain": [
       "<Figure size 432x288 with 1 Axes>"
      ]
     },
     "metadata": {
      "needs_background": "light"
     },
     "output_type": "display_data"
    }
   ],
   "source": [
    "sns.histplot(x='Age',hue=\"Earning\",data=df,bins=13,alpha=0.3)"
   ]
  },
  {
   "cell_type": "code",
   "execution_count": 13,
   "id": "6c1c992a",
   "metadata": {},
   "outputs": [
    {
     "data": {
      "text/plain": [
       "([0, 1, 2, 3, 4, 5, 6, 7, 8],\n",
       " [Text(0, 0, ''),\n",
       "  Text(0, 0, ''),\n",
       "  Text(0, 0, ''),\n",
       "  Text(0, 0, ''),\n",
       "  Text(0, 0, ''),\n",
       "  Text(0, 0, ''),\n",
       "  Text(0, 0, ''),\n",
       "  Text(0, 0, ''),\n",
       "  Text(0, 0, '')])"
      ]
     },
     "execution_count": 13,
     "metadata": {},
     "output_type": "execute_result"
    },
    {
     "data": {
      "image/png": "[encoded data removed]",
      "text/plain": [
       "<Figure size 432x288 with 1 Axes>"
      ]
     },
     "metadata": {
      "needs_background": "light"
     },
     "output_type": "display_data"
    }
   ],
   "source": [
    "sns.histplot(x='Workclass',hue=\"Earning\",data=df)\n",
    "plt.xticks(rotation = 90, ha = 'right')"
   ]
  },
  {
   "cell_type": "code",
   "execution_count": 14,
   "id": "d3d9fb86",
   "metadata": {},
   "outputs": [
    {
     "data": {
      "text/plain": [
       "([0, 1, 2, 3, 4, 5, 6, 7, 8, 9, 10, 11, 12, 13, 14, 15],\n",
       " [Text(0, 0, ''),\n",
       "  Text(0, 0, ''),\n",
       "  Text(0, 0, ''),\n",
       "  Text(0, 0, ''),\n",
       "  Text(0, 0, ''),\n",
       "  Text(0, 0, ''),\n",
       "  Text(0, 0, ''),\n",
       "  Text(0, 0, ''),\n",
       "  Text(0, 0, ''),\n",
       "  Text(0, 0, ''),\n",
       "  Text(0, 0, ''),\n",
       "  Text(0, 0, ''),\n",
       "  Text(0, 0, ''),\n",
       "  Text(0, 0, ''),\n",
       "  Text(0, 0, ''),\n",
       "  Text(0, 0, '')])"
      ]
     },
     "execution_count": 14,
     "metadata": {},
     "output_type": "execute_result"
    },
    {
     "data": {
      "image/png": "[encoded data removed]",
      "text/plain": [
       "<Figure size 432x288 with 1 Axes>"
      ]
     },
     "metadata": {
      "needs_background": "light"
     },
     "output_type": "display_data"
    }
   ],
   "source": [
    "sns.histplot(x='Education',hue=\"Earning\",data=df)\n",
    "plt.xticks(rotation = 90, ha = 'right')"
   ]
  },
  {
   "cell_type": "code",
   "execution_count": 15,
   "id": "c882790f",
   "metadata": {},
   "outputs": [
    {
     "data": {
      "text/plain": [
       "<AxesSubplot:xlabel='Years_of_Education', ylabel='Count'>"
      ]
     },
     "execution_count": 15,
     "metadata": {},
     "output_type": "execute_result"
    },
    {
     "data": {
      "image/png": "[encoded data removed]",
      "text/plain": [
       "<Figure size 432x288 with 1 Axes>"
      ]
     },
     "metadata": {
      "needs_background": "light"
     },
     "output_type": "display_data"
    }
   ],
   "source": [
    "sns.histplot(x='Years_of_Education',hue=\"Earning\",data=df)"
   ]
  },
  {
   "cell_type": "code",
   "execution_count": 16,
   "id": "6a36e039",
   "metadata": {},
   "outputs": [
    {
     "data": {
      "text/plain": [
       "(array([0, 1, 2, 3, 4, 5, 6]),\n",
       " [Text(0, 0, ' Divorced'),\n",
       "  Text(1, 0, ' Married-civ-spouse'),\n",
       "  Text(2, 0, ' Never-married'),\n",
       "  Text(3, 0, ' Separated'),\n",
       "  Text(4, 0, ' Married-spouse-absent'),\n",
       "  Text(5, 0, ' Widowed'),\n",
       "  Text(6, 0, ' Married-AF-spouse')])"
      ]
     },
     "execution_count": 16,
     "metadata": {},
     "output_type": "execute_result"
    },
    {
     "data": {
      "image/png": "[encoded data removed]",
      "text/plain": [
       "<Figure size 432x288 with 1 Axes>"
      ]
     },
     "metadata": {
      "needs_background": "light"
     },
     "output_type": "display_data"
    }
   ],
   "source": [
    "sns.countplot(x='Marital_Status',hue=\"Earning\",data=df)\n",
    "plt.xticks(rotation = 90, ha = 'right')"
   ]
  },
  {
   "cell_type": "code",
   "execution_count": 17,
   "id": "fb582470",
   "metadata": {},
   "outputs": [
    {
     "data": {
      "text/plain": [
       "(array([ 0,  1,  2,  3,  4,  5,  6,  7,  8,  9, 10, 11, 12, 13, 14]),\n",
       " [Text(0, 0, ' Handlers-cleaners'),\n",
       "  Text(1, 0, ' Prof-specialty'),\n",
       "  Text(2, 0, ' Exec-managerial'),\n",
       "  Text(3, 0, ' Sales'),\n",
       "  Text(4, 0, ' Craft-repair'),\n",
       "  Text(5, 0, ' Transport-moving'),\n",
       "  Text(6, 0, ' Farming-fishing'),\n",
       "  Text(7, 0, ' Machine-op-inspct'),\n",
       "  Text(8, 0, ' Tech-support'),\n",
       "  Text(9, 0, ' Protective-serv'),\n",
       "  Text(10, 0, ' Adm-clerical'),\n",
       "  Text(11, 0, ' Other-service'),\n",
       "  Text(12, 0, ' ?'),\n",
       "  Text(13, 0, ' Armed-Forces'),\n",
       "  Text(14, 0, ' Priv-house-serv')])"
      ]
     },
     "execution_count": 17,
     "metadata": {},
     "output_type": "execute_result"
    },
    {
     "data": {
      "image/png": "[encoded data removed]",
      "text/plain": [
       "<Figure size 432x288 with 1 Axes>"
      ]
     },
     "metadata": {
      "needs_background": "light"
     },
     "output_type": "display_data"
    }
   ],
   "source": [
    "sns.countplot(x='Occupation',hue=\"Earning\",data=df)\n",
    "plt.xticks(rotation = 90)"
   ]
  },
  {
   "cell_type": "code",
   "execution_count": 18,
   "id": "4a1cc7b1",
   "metadata": {},
   "outputs": [
    {
     "data": {
      "text/plain": [
       "(array([30. , 32.5, 35. , 37.5, 40. , 42.5, 45. , 47.5, 50. , 52.5, 55. ]),\n",
       " [Text(0, 0, ''),\n",
       "  Text(0, 0, ''),\n",
       "  Text(0, 0, ''),\n",
       "  Text(0, 0, ''),\n",
       "  Text(0, 0, ''),\n",
       "  Text(0, 0, ''),\n",
       "  Text(0, 0, ''),\n",
       "  Text(0, 0, ''),\n",
       "  Text(0, 0, ''),\n",
       "  Text(0, 0, ''),\n",
       "  Text(0, 0, '')])"
      ]
     },
     "execution_count": 18,
     "metadata": {},
     "output_type": "execute_result"
    },
    {
     "data": {
      "image/png": "[encoded data removed]",
      "text/plain": [
       "<Figure size 432x288 with 1 Axes>"
      ]
     },
     "metadata": {
      "needs_background": "light"
     },
     "output_type": "display_data"
    }
   ],
   "source": [
    "sns.histplot(x='hours_per_week',hue=\"Earning\",data=df,bins=8)\n",
    "plt.xticks(rotation = 90, ha = 'right')"
   ]
  },
  {
   "cell_type": "code",
   "execution_count": 19,
   "id": "2695d0bf",
   "metadata": {},
   "outputs": [
    {
     "data": {
      "text/plain": [
       "([0, 1, 2, 3, 4],\n",
       " [Text(0, 0, ''),\n",
       "  Text(0, 0, ''),\n",
       "  Text(0, 0, ''),\n",
       "  Text(0, 0, ''),\n",
       "  Text(0, 0, '')])"
      ]
     },
     "execution_count": 19,
     "metadata": {},
     "output_type": "execute_result"
    },
    {
     "data": {
      "image/png": "[encoded data removed]",
      "text/plain": [
       "<Figure size 432x288 with 1 Axes>"
      ]
     },
     "metadata": {
      "needs_background": "light"
     },
     "output_type": "display_data"
    }
   ],
   "source": [
    "sns.histplot(x='Race',hue=\"Earning\",data=df)\n",
    "plt.xticks(rotation = 90, ha = 'right')"
   ]
  },
  {
   "cell_type": "code",
   "execution_count": 20,
   "id": "5d2fbd5c",
   "metadata": {},
   "outputs": [
    {
     "data": {
      "text/plain": [
       "<AxesSubplot:>"
      ]
     },
     "execution_count": 20,
     "metadata": {},
     "output_type": "execute_result"
    },
    {
     "data": {
      "image/png": "[encoded data removed]",
      "text/plain": [
       "<Figure size 432x288 with 2 Axes>"
      ]
     },
     "metadata": {
      "needs_background": "light"
     },
     "output_type": "display_data"
    }
   ],
   "source": [
    "#creating a correlation table to study the correaltion between various data and how it has an impact over the Earnings:\n",
    "sns.heatmap(df.corr(),annot=True,cmap='YlOrBr')"
   ]
  },
  {
   "cell_type": "code",
   "execution_count": 21,
   "id": "b0ac268b",
   "metadata": {},
   "outputs": [],
   "source": [
    "#importing sklearn libraries, that is used for models\n",
    "from sklearn import preprocessing \n",
    "from sklearn.metrics import confusion_matrix, accuracy_score"
   ]
  },
  {
   "cell_type": "code",
   "execution_count": 22,
   "id": "ee447562",
   "metadata": {},
   "outputs": [
    {
     "name": "stdout",
     "output_type": "stream",
     "text": [
      "Unnamed: 0             int64\n",
      "Age                    int64\n",
      "Workclass             object\n",
      "fnlwgt                 int64\n",
      "Education             object\n",
      "Years_of_Education     int64\n",
      "Marital_Status        object\n",
      "Occupation            object\n",
      "Relationship          object\n",
      "Race                  object\n",
      "Sex                   object\n",
      "Capital_gain           int64\n",
      "Capital_loss           int64\n",
      "hours_per_week         int64\n",
      "Native_country        object\n",
      "Earning               object\n",
      "dtype: object\n"
     ]
    }
   ],
   "source": [
    "#printing data types for creating model\n",
    "print(df.dtypes)"
   ]
  },
  {
   "cell_type": "code",
   "execution_count": 23,
   "id": "16bb15e3",
   "metadata": {},
   "outputs": [
    {
     "name": "stdout",
     "output_type": "stream",
     "text": [
      "['Workclass', 'Education', 'Marital_Status', 'Occupation', 'Relationship', 'Race', 'Sex', 'Native_country', 'Earning']\n"
     ]
    }
   ],
   "source": [
    "#seperating categorical data\n",
    "df_cat = list(df.select_dtypes(include=['object']).columns)\n",
    "print(df_cat)"
   ]
  },
  {
   "cell_type": "code",
   "execution_count": 24,
   "id": "93b54854",
   "metadata": {},
   "outputs": [
    {
     "name": "stdout",
     "output_type": "stream",
     "text": [
      "['Unnamed: 0', 'Age', 'fnlwgt', 'Years_of_Education', 'Capital_gain', 'Capital_loss', 'hours_per_week']\n"
     ]
    }
   ],
   "source": [
    "#seperating numerical values and data\n",
    "df_num = list(df.select_dtypes(include=['int64']).columns)\n",
    "print(df_num)"
   ]
  },
  {
   "cell_type": "code",
   "execution_count": 25,
   "id": "508d3266",
   "metadata": {},
   "outputs": [
    {
     "name": "stdout",
     "output_type": "stream",
     "text": [
      "Unnamed: 0            int64\n",
      "Age                   int64\n",
      "Workclass             int32\n",
      "fnlwgt                int64\n",
      "Education             int32\n",
      "Years_of_Education    int64\n",
      "Marital_Status        int32\n",
      "Occupation            int32\n",
      "Relationship          int32\n",
      "Race                  int32\n",
      "Sex                   int32\n",
      "Capital_gain          int64\n",
      "Capital_loss          int64\n",
      "hours_per_week        int64\n",
      "Native_country        int32\n",
      "Earning               int32\n",
      "dtype: object\n"
     ]
    }
   ],
   "source": [
    "#converting all data to int or binary data type to create models\n",
    "le = preprocessing.LabelEncoder()\n",
    "for i in df_cat:\n",
    "    df[i] = le.fit_transform(df[i])\n",
    "print(df.dtypes)"
   ]
  },
  {
   "cell_type": "code",
   "execution_count": 26,
   "id": "bac3e4be",
   "metadata": {},
   "outputs": [
    {
     "name": "stdout",
     "output_type": "stream",
     "text": [
      "       Unnamed: 0  Age  Workclass  fnlwgt  Education  Years_of_Education  \\\n",
      "1               1   38          4  215646         11                   9   \n",
      "2               2   53          4  234721          1                   7   \n",
      "3               3   28          4  338409          9                  13   \n",
      "4               4   37          4  284582         12                  14   \n",
      "6               6   52          6  209642         11                   9   \n",
      "...           ...  ...        ...     ...        ...                 ...   \n",
      "32554       32554   22          4  310152         15                  10   \n",
      "32555       32555   27          4  257302          7                  12   \n",
      "32556       32556   40          4  154374         11                   9   \n",
      "32557       32557   58          4  151910         11                   9   \n",
      "32559       32559   52          5  287927         11                   9   \n",
      "\n",
      "       Marital_Status  Occupation  Relationship  Race  Sex  Capital_gain  \\\n",
      "1                   0           6             1     4    1             0   \n",
      "2                   2           6             0     2    1             0   \n",
      "3                   2          10             5     2    0             0   \n",
      "4                   2           4             5     4    0             0   \n",
      "6                   2           4             0     4    1             0   \n",
      "...               ...         ...           ...   ...  ...           ...   \n",
      "32554               4          11             1     4    1             0   \n",
      "32555               2          13             5     4    0             0   \n",
      "32556               2           7             0     4    1             0   \n",
      "32557               6           1             4     4    0             0   \n",
      "32559               2           4             5     4    0         15024   \n",
      "\n",
      "       Capital_loss  hours_per_week  Native_country  \n",
      "1                 0              40              39  \n",
      "2                 0              40              39  \n",
      "3                 0              40               5  \n",
      "4                 0              40              39  \n",
      "6                 0              45              39  \n",
      "...             ...             ...             ...  \n",
      "32554             0              40              39  \n",
      "32555             0              38              39  \n",
      "32556             0              40              39  \n",
      "32557             0              40              39  \n",
      "32559             0              40              39  \n",
      "\n",
      "[23490 rows x 15 columns]\n",
      "1        0\n",
      "2        0\n",
      "3        0\n",
      "4        0\n",
      "6        1\n",
      "        ..\n",
      "32554    0\n",
      "32555    0\n",
      "32556    1\n",
      "32557    0\n",
      "32559    1\n",
      "Name: Earning, Length: 23490, dtype: int32\n"
     ]
    }
   ],
   "source": [
    "#creating X and Y values for creating models:\n",
    "X= df.drop(['Earning'],axis = 1)\n",
    "Y = df['Earning']\n",
    "print(X)\n",
    "print(Y)"
   ]
  },
  {
   "cell_type": "code",
   "execution_count": 27,
   "id": "816035f7",
   "metadata": {},
   "outputs": [],
   "source": [
    "#creating a train test split of 20-80 proportion to train the data for model creation:\n",
    "from sklearn.model_selection import train_test_split\n",
    "x_train, x_test, y_train, y_test = train_test_split(X, Y, test_size=0.2,random_state=1)"
   ]
  },
  {
   "cell_type": "code",
   "execution_count": 28,
   "id": "65903ec2",
   "metadata": {},
   "outputs": [
    {
     "name": "stdout",
     "output_type": "stream",
     "text": [
      "(18792, 15) (18792,) (4698, 15) (4698,)\n"
     ]
    }
   ],
   "source": [
    "#checking the split occured by printing the shape:\n",
    "print(x_train.shape,y_train.shape, x_test.shape, y_test.shape)"
   ]
  },
  {
   "cell_type": "code",
   "execution_count": 29,
   "id": "d2fbf484",
   "metadata": {},
   "outputs": [],
   "source": [
    "#standardizing the data:\n",
    "from sklearn.preprocessing import StandardScaler\n",
    "sc = StandardScaler()\n",
    "x_train = sc.fit_transform(x_train)\n",
    "x_test = sc.transform(x_test)"
   ]
  },
  {
   "cell_type": "code",
   "execution_count": 30,
   "id": "9c7797ab",
   "metadata": {},
   "outputs": [],
   "source": [
    "#creating a logistic regression model:\n",
    "from sklearn.linear_model import LogisticRegression\n",
    "log = LogisticRegression(random_state = 0)\n",
    "log.fit(x_train, y_train)\n",
    "log_pred = log.predict(x_test)\n",
    "ac_log = round(accuracy_score(y_test, log_pred)*100,2)\n",
    "cm_log = confusion_matrix(y_test, log_pred)"
   ]
  },
  {
   "cell_type": "code",
   "execution_count": 31,
   "id": "97892f44",
   "metadata": {},
   "outputs": [
    {
     "name": "stdout",
     "output_type": "stream",
     "text": [
      "79.93\n"
     ]
    }
   ],
   "source": [
    "#creating a Knn model and used trail and error for choosing the n_neighbors value:\n",
    "from sklearn.neighbors import KNeighborsClassifier\n",
    "knn = KNeighborsClassifier(n_neighbors = 3)\n",
    "knn.fit(x_train,y_train)\n",
    "knn_pred = knn.predict(x_test)\n",
    "ac_knn = round(accuracy_score(y_test, knn_pred)*100,2)\n",
    "cm_knn = confusion_matrix(y_test, knn_pred)\n",
    "print(ac_knn)"
   ]
  },
  {
   "cell_type": "code",
   "execution_count": 32,
   "id": "0806d858",
   "metadata": {},
   "outputs": [
    {
     "name": "stdout",
     "output_type": "stream",
     "text": [
      "79.14\n"
     ]
    }
   ],
   "source": [
    "#creating a sgd model:\n",
    "\n",
    "from sklearn.linear_model import SGDClassifier\n",
    "sgd = SGDClassifier()\n",
    "sgd.fit(x_train, y_train)\n",
    "sgd_pred = sgd.predict(x_test)\n",
    "ac_sgd = round(accuracy_score(y_test, sgd_pred)*100,2)\n",
    "cm_sgd = confusion_matrix(y_test, sgd_pred)\n",
    "print(ac_sgd)"
   ]
  },
  {
   "cell_type": "code",
   "execution_count": 33,
   "id": "a9f4de90",
   "metadata": {},
   "outputs": [
    {
     "name": "stdout",
     "output_type": "stream",
     "text": [
      "79.76\n"
     ]
    }
   ],
   "source": [
    "#creating a Decision tree model:\n",
    "from sklearn.tree import DecisionTreeClassifier\n",
    "dct = DecisionTreeClassifier()\n",
    "dct.fit(x_train,y_train)\n",
    "dct_pred = dct.predict(x_test)\n",
    "ac_dct = round(accuracy_score(y_test, dct_pred)*100,2)\n",
    "cm_dct = confusion_matrix(y_test, dct_pred)\n",
    "print(ac_dct)"
   ]
  },
  {
   "cell_type": "code",
   "execution_count": 34,
   "id": "67d29d83",
   "metadata": {},
   "outputs": [
    {
     "name": "stdout",
     "output_type": "stream",
     "text": [
      "84.76\n"
     ]
    }
   ],
   "source": [
    "#creating a Random Forest model:\n",
    "from sklearn.ensemble import RandomForestClassifier\n",
    "rd = RandomForestClassifier()\n",
    "rd.fit(x_train,y_train)\n",
    "rd_pred = rd.predict(x_test)\n",
    "ac_rd = round(accuracy_score(y_test, rd_pred)*100,2)\n",
    "cm_rd = confusion_matrix(y_test, rd_pred)\n",
    "print(ac_rd)"
   ]
  },
  {
   "cell_type": "code",
   "execution_count": 35,
   "id": "36e3218d",
   "metadata": {},
   "outputs": [
    {
     "data": {
      "text/html": [
       "<div>\n",
       "<style scoped>\n",
       "    .dataframe tbody tr th:only-of-type {\n",
       "        vertical-align: middle;\n",
       "    }\n",
       "\n",
       "    .dataframe tbody tr th {\n",
       "        vertical-align: top;\n",
       "    }\n",
       "\n",
       "    .dataframe thead th {\n",
       "        text-align: right;\n",
       "    }\n",
       "</style>\n",
       "<table border=\"1\" class=\"dataframe\">\n",
       "  <thead>\n",
       "    <tr style=\"text-align: right;\">\n",
       "      <th></th>\n",
       "      <th>Accuracy</th>\n",
       "      <th>Confusion_Matrix</th>\n",
       "    </tr>\n",
       "    <tr>\n",
       "      <th>Model</th>\n",
       "      <th></th>\n",
       "      <th></th>\n",
       "    </tr>\n",
       "  </thead>\n",
       "  <tbody>\n",
       "    <tr>\n",
       "      <th>Random Forest</th>\n",
       "      <td>84.76</td>\n",
       "      <td>[[3196, 247], [469, 786]]</td>\n",
       "    </tr>\n",
       "    <tr>\n",
       "      <th>Logistic Regression</th>\n",
       "      <td>81.61</td>\n",
       "      <td>[[3236, 207], [657, 598]]</td>\n",
       "    </tr>\n",
       "    <tr>\n",
       "      <th>KNN</th>\n",
       "      <td>79.93</td>\n",
       "      <td>[[3044, 399], [544, 711]]</td>\n",
       "    </tr>\n",
       "    <tr>\n",
       "      <th>Decision Tree</th>\n",
       "      <td>79.76</td>\n",
       "      <td>[[2958, 485], [466, 789]]</td>\n",
       "    </tr>\n",
       "    <tr>\n",
       "      <th>Stochastic Gradient Decent</th>\n",
       "      <td>79.14</td>\n",
       "      <td>[[3262, 181], [799, 456]]</td>\n",
       "    </tr>\n",
       "  </tbody>\n",
       "</table>\n",
       "</div>"
      ],
      "text/plain": [
       "                            Accuracy           Confusion_Matrix\n",
       "Model                                                          \n",
       "Random Forest                  84.76  [[3196, 247], [469, 786]]\n",
       "Logistic Regression            81.61  [[3236, 207], [657, 598]]\n",
       "KNN                            79.93  [[3044, 399], [544, 711]]\n",
       "Decision Tree                  79.76  [[2958, 485], [466, 789]]\n",
       "Stochastic Gradient Decent     79.14  [[3262, 181], [799, 456]]"
      ]
     },
     "execution_count": 35,
     "metadata": {},
     "output_type": "execute_result"
    }
   ],
   "source": [
    "#printing the data along with confusion matrix to choose the model that has the maximum accuracy:\n",
    "results = pd.DataFrame({\n",
    "    'Model': ['Logistic Regression','Stochastic Gradient Decent','Decision Tree','Random Forest',  \n",
    "              'KNN'],\n",
    "    'Accuracy': [ac_log,ac_sgd,ac_dct,ac_rd,ac_knn],\n",
    "    'Confusion_Matrix':[cm_log,cm_sgd,cm_dct,cm_rd,cm_knn]})                \n",
    "result_df = results.sort_values(by='Accuracy', ascending=False)\n",
    "result_df = result_df.set_index('Model')\n",
    "result_df.head(5)"
   ]
  },
  {
   "cell_type": "code",
   "execution_count": 36,
   "id": "815691d7",
   "metadata": {},
   "outputs": [],
   "source": [
    "#the model suggests like Random Forest is more accurate than other models for this data."
   ]
  }
 ],
 "metadata": {
  "kernelspec": {
   "display_name": "Python 3 (ipykernel)",
   "language": "python",
   "name": "python3"
  },
  "language_info": {
   "codemirror_mode": {
    "name": "ipython",
    "version": 3
   },
   "file_extension": ".py",
   "mimetype": "text/x-python",
   "name": "python",
   "nbconvert_exporter": "python",
   "pygments_lexer": "ipython3",
   "version": "3.9.7"
  }
 },
 "nbformat": 4,
 "nbformat_minor": 5
}
